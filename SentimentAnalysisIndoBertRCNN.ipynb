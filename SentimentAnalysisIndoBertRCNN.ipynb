{
 "cells": [
  {
   "cell_type": "code",
   "execution_count": 24,
   "metadata": {},
   "outputs": [
    {
     "name": "stdout",
     "output_type": "stream",
     "text": [
      "Looking in indexes: https://pypi.org/simple, https://pypi.ngc.nvidia.com\n",
      "Requirement already satisfied: transformers in c:\\python311\\lib\\site-packages (4.29.2)\n",
      "Requirement already satisfied: filelock in c:\\python311\\lib\\site-packages (from transformers) (3.12.0)\n",
      "Requirement already satisfied: huggingface-hub<1.0,>=0.14.1 in c:\\python311\\lib\\site-packages (from transformers) (0.15.1)\n",
      "Requirement already satisfied: numpy>=1.17 in c:\\python311\\lib\\site-packages (from transformers) (1.23.5)\n",
      "Requirement already satisfied: packaging>=20.0 in c:\\users\\labib\\appdata\\roaming\\python\\python311\\site-packages (from transformers) (21.3)\n",
      "Requirement already satisfied: pyyaml>=5.1 in c:\\python311\\lib\\site-packages (from transformers) (6.0)\n",
      "Requirement already satisfied: regex!=2019.12.17 in c:\\python311\\lib\\site-packages (from transformers) (2022.10.31)\n",
      "Requirement already satisfied: requests in c:\\python311\\lib\\site-packages (from transformers) (2.31.0)\n",
      "Requirement already satisfied: tokenizers!=0.11.3,<0.14,>=0.11.1 in c:\\python311\\lib\\site-packages (from transformers) (0.13.3)\n",
      "Requirement already satisfied: tqdm>=4.27 in c:\\python311\\lib\\site-packages (from transformers) (4.64.1)\n",
      "Requirement already satisfied: fsspec in c:\\python311\\lib\\site-packages (from huggingface-hub<1.0,>=0.14.1->transformers) (2023.5.0)\n",
      "Requirement already satisfied: typing-extensions>=3.7.4.3 in c:\\python311\\lib\\site-packages (from huggingface-hub<1.0,>=0.14.1->transformers) (4.6.3)\n",
      "Requirement already satisfied: pyparsing!=3.0.5,>=2.0.2 in c:\\users\\labib\\appdata\\roaming\\python\\python311\\site-packages (from packaging>=20.0->transformers) (3.0.9)\n",
      "Requirement already satisfied: colorama in c:\\users\\labib\\appdata\\roaming\\python\\python311\\site-packages (from tqdm>=4.27->transformers) (0.4.6)\n",
      "Requirement already satisfied: charset-normalizer<4,>=2 in c:\\python311\\lib\\site-packages (from requests->transformers) (3.1.0)\n",
      "Requirement already satisfied: idna<4,>=2.5 in c:\\python311\\lib\\site-packages (from requests->transformers) (3.4)\n",
      "Requirement already satisfied: urllib3<3,>=1.21.1 in c:\\python311\\lib\\site-packages (from requests->transformers) (2.0.2)\n",
      "Requirement already satisfied: certifi>=2017.4.17 in c:\\python311\\lib\\site-packages (from requests->transformers) (2023.5.7)\n"
     ]
    },
    {
     "name": "stderr",
     "output_type": "stream",
     "text": [
      "c:\\Python311\\python.exe: No module named pip3\n"
     ]
    },
    {
     "name": "stdout",
     "output_type": "stream",
     "text": [
      "Looking in indexes: https://pypi.org/simple, https://pypi.ngc.nvidia.com\n",
      "Requirement already satisfied: numpy in c:\\python311\\lib\\site-packages (1.23.5)\n",
      "Looking in indexes: https://pypi.org/simple, https://pypi.ngc.nvidia.com\n",
      "Requirement already satisfied: scikit-learn in c:\\python311\\lib\\site-packages (1.2.0)\n",
      "Requirement already satisfied: numpy>=1.17.3 in c:\\python311\\lib\\site-packages (from scikit-learn) (1.23.5)\n",
      "Requirement already satisfied: scipy>=1.3.2 in c:\\python311\\lib\\site-packages (from scikit-learn) (1.9.3)\n",
      "Requirement already satisfied: joblib>=1.1.1 in c:\\python311\\lib\\site-packages (from scikit-learn) (1.2.0)\n",
      "Requirement already satisfied: threadpoolctl>=2.0.0 in c:\\python311\\lib\\site-packages (from scikit-learn) (3.1.0)\n",
      "Looking in indexes: https://pypi.org/simple, https://pypi.ngc.nvidia.com\n",
      "Requirement already satisfied: pandas in c:\\python311\\lib\\site-packages (1.5.1)\n",
      "Requirement already satisfied: python-dateutil>=2.8.1 in c:\\users\\labib\\appdata\\roaming\\python\\python311\\site-packages (from pandas) (2.8.2)\n",
      "Requirement already satisfied: pytz>=2020.1 in c:\\python311\\lib\\site-packages (from pandas) (2022.6)\n",
      "Requirement already satisfied: numpy>=1.21.0 in c:\\python311\\lib\\site-packages (from pandas) (1.23.5)\n",
      "Requirement already satisfied: six>=1.5 in c:\\users\\labib\\appdata\\roaming\\python\\python311\\site-packages (from python-dateutil>=2.8.1->pandas) (1.16.0)\n"
     ]
    }
   ],
   "source": [
    "# Install library yang diperlukan\n",
    "import sys\n",
    "!{sys.executable} -m pip install transformers\n",
    "!{sys.executable} -m pip3 install torch torchvision torchaudio --index-url https://download.pytorch.org/whl/cu117\n",
    "!{sys.executable} -m pip install numpy\n",
    "!{sys.executable} -m pip install scikit-learn\n",
    "!{sys.executable} -m pip install pandas"
   ]
  },
  {
   "cell_type": "code",
   "execution_count": 4,
   "metadata": {},
   "outputs": [
    {
     "name": "stderr",
     "output_type": "stream",
     "text": [
      "c:\\Python311\\Lib\\site-packages\\tqdm\\auto.py:22: TqdmWarning: IProgress not found. Please update jupyter and ipywidgets. See https://ipywidgets.readthedocs.io/en/stable/user_install.html\n",
      "  from .autonotebook import tqdm as notebook_tqdm\n"
     ]
    }
   ],
   "source": [
    "import torch\n",
    "from transformers import AutoTokenizer, AutoModel\n",
    "from sklearn.preprocessing import LabelEncoder\n",
    "from torch import nn\n",
    "import pandas as pd\n",
    "import re"
   ]
  },
  {
   "cell_type": "code",
   "execution_count": 5,
   "metadata": {},
   "outputs": [
    {
     "name": "stdout",
     "output_type": "stream",
     "text": [
      "0       Presiden Joko Widodo menggelar rapat dengan se...\n",
      "1       Halo #SobATRBPN, simak bersama yuk! Kegiatan W...\n",
      "2       Reposted from @atrbpn - Halo #SobATRBPN, Kegia...\n",
      "3       Halo #SobATRBPN, simak bersama yuk! Kegiatan W...\n",
      "4       #repost @atr_bpn --- Halo #SobATRBPN, simak be...\n",
      "                              ...                        \n",
      "1222    Menteri Investasi Bahlil Lahadalia mengatakan,...\n",
      "1223    Minimnya minat investor swasta dalam proses pe...\n",
      "1224    RT @kompascom: Kepala Otorita Ibu Kota Nusanta...\n",
      "1225    Kepala Otorita Ibu Kota Nusantara (OIKN) Bamba...\n",
      "1226    Kemenkeu menggelontorkan sederet insentif perp...\n",
      "Name: title, Length: 1227, dtype: object\n"
     ]
    }
   ],
   "source": [
    "# Load Dataset\n",
    "dataset_path = \"IKN_Nusantara.csv\"  \n",
    "output_path = \"sentiment_analysis_results.csv\"\n",
    "df = pd.read_csv(dataset_path)\n",
    "# Pilih kolom tweet yang akan digunakan\n",
    "tweets = df[\"title\"].tolist()\n",
    "\n",
    "print(df[\"title\"])"
   ]
  },
  {
   "cell_type": "code",
   "execution_count": 6,
   "metadata": {},
   "outputs": [
    {
     "name": "stdout",
     "output_type": "stream",
     "text": [
      "0       Presiden Joko Widodo menggelar rapat dengan se...\n",
      "1       Halo SobATRBPN simak bersama yuk Kegiatan Waki...\n",
      "2       Reposted from atrbpn  Halo SobATRBPN Kegiatan ...\n",
      "3       Halo SobATRBPN simak bersama yuk Kegiatan Waki...\n",
      "4       repost atrbpn  Halo SobATRBPN simak bersama yu...\n",
      "                              ...                        \n",
      "1222    Menteri Investasi Bahlil Lahadalia mengatakan ...\n",
      "1223    Minimnya minat investor swasta dalam proses pe...\n",
      "1224    RT kompascom Kepala Otorita Ibu Kota Nusantara...\n",
      "1225    Kepala Otorita Ibu Kota Nusantara OIKN Bambang...\n",
      "1226    Kemenkeu menggelontorkan sederet insentif perp...\n",
      "Name: title, Length: 1227, dtype: object\n"
     ]
    }
   ],
   "source": [
    "# Preprocessing function to remove specific symbols\n",
    "def preprocess_text(text):\n",
    "    # Remove specific symbols using regex\n",
    "    processed_text = re.sub(r\"[!\\\"#$%&'()*+,-./:;<=>?@[\\]^_`{|}~]\", \"\", text)\n",
    "    return processed_text\n",
    "\n",
    "# Apply preprocessing to the 'description' column\n",
    "df['title'] = df['title'].apply(preprocess_text)\n",
    "\n",
    "df.to_csv(\"sentiment_analysis_results.csv\", index=True)\n",
    "\n",
    "print(df[\"title\"])"
   ]
  },
  {
   "cell_type": "code",
   "execution_count": 7,
   "metadata": {},
   "outputs": [
    {
     "name": "stderr",
     "output_type": "stream",
     "text": [
      "Some weights of the model checkpoint at indolem/indobert-base-uncased were not used when initializing BertModel: ['cls.predictions.transform.LayerNorm.weight', 'cls.predictions.decoder.bias', 'cls.predictions.transform.dense.weight', 'cls.predictions.bias', 'cls.predictions.decoder.weight', 'cls.predictions.transform.dense.bias', 'cls.predictions.transform.LayerNorm.bias']\n",
      "- This IS expected if you are initializing BertModel from the checkpoint of a model trained on another task or with another architecture (e.g. initializing a BertForSequenceClassification model from a BertForPreTraining model).\n",
      "- This IS NOT expected if you are initializing BertModel from the checkpoint of a model that you expect to be exactly identical (initializing a BertForSequenceClassification model from a BertForSequenceClassification model).\n"
     ]
    }
   ],
   "source": [
    "# Step 2: Load model dan tokenizer\n",
    "\n",
    "# model_name = \"sarahlintang/IndoBERT\"\n",
    "# tokenizer = AutoTokenizer.from_pretrained(\"sarahlintang/IndoBERT\")\n",
    "# model = AutoModel.from_pretrained(model_name)\n",
    "\n",
    "model_name = \"indolem/indobert-base-uncased\"\n",
    "tokenizer = AutoTokenizer.from_pretrained(\"indolem/indobert-base-uncased\")\n",
    "model = AutoModel.from_pretrained(model_name)"
   ]
  },
  {
   "cell_type": "code",
   "execution_count": 45,
   "metadata": {},
   "outputs": [],
   "source": [
    "import os\n",
    "\n",
    "# Buat direktori jika belum ada\n",
    "save_directory = \"C:/Users/labib/Documents/Kuliah/Materi/Sem 6/MPI/Artikel ilmiah/model\"\n",
    "# save_directory = \"E:/DataAbie/Kuliah\\MPI/Artikel Ilmiah/model_saved\"\n",
    "if not os.path.exists(save_directory):\n",
    "    os.makedirs(save_directory)\n",
    "\n",
    "# Simpan model\n",
    "torch.save(model.state_dict(), os.path.join(save_directory, \"sentiment_model.pth\"))"
   ]
  },
  {
   "cell_type": "code",
   "execution_count": null,
   "metadata": {},
   "outputs": [],
   "source": [
    "# Menyimpan model classifier\n",
    "# torch.save(model.state_dict(), \"models/sentiment_model.pth\")"
   ]
  },
  {
   "cell_type": "code",
   "execution_count": 22,
   "metadata": {},
   "outputs": [],
   "source": [
    "# Step 3: Preprocess teks\n",
    "def preprocess_text(text):\n",
    "    encoded_input = tokenizer.encode_plus(\n",
    "        text,\n",
    "        add_special_tokens=True,\n",
    "        padding=\"max_length\",\n",
    "        truncation=True,\n",
    "        max_length=128,\n",
    "        return_tensors=\"pt\"\n",
    "    )\n",
    "    return encoded_input"
   ]
  },
  {
   "cell_type": "code",
   "execution_count": 23,
   "metadata": {},
   "outputs": [],
   "source": [
    "# Step 4: Definisikan model sentimen\n",
    "class SentimentClassifier(nn.Module):\n",
    "    def __init__(self, bert_model, num_classes):\n",
    "        super(SentimentClassifier, self).__init__()\n",
    "        self.bert_model = bert_model\n",
    "        self.rcnn = nn.GRU(bert_model.config.hidden_size, bert_model.config.hidden_size, batch_first=True, bidirectional=True)\n",
    "        self.dropout = nn.Dropout(0.2)\n",
    "        self.fc = nn.Linear(bert_model.config.hidden_size * 2, num_classes)\n",
    "\n",
    "    def forward(self, input_ids, attention_mask):\n",
    "        outputs = self.bert_model(input_ids=input_ids, attention_mask=attention_mask)\n",
    "        sequence_output = outputs.last_hidden_state\n",
    "        _, hidden = self.rcnn(sequence_output)\n",
    "        hidden = torch.cat((hidden[-2, :, :], hidden[-1, :, :]), dim=1)\n",
    "        hidden = self.dropout(hidden)\n",
    "        logits = self.fc(hidden)\n",
    "        return logits"
   ]
  },
  {
   "cell_type": "code",
   "execution_count": 24,
   "metadata": {},
   "outputs": [],
   "source": [
    "# Step 5: Load label encoder\n",
    "label_encoder = LabelEncoder()\n",
    "label_encoder.classes_ = ['negative', 'neutral', 'positive']  # Ganti dengan kelas sentimen yang sesuai"
   ]
  },
  {
   "cell_type": "code",
   "execution_count": 49,
   "metadata": {},
   "outputs": [
    {
     "name": "stdout",
     "output_type": "stream",
     "text": [
      "sentiment_model.pth\n"
     ]
    },
    {
     "ename": "RuntimeError",
     "evalue": "Error(s) in loading state_dict for SentimentClassifier:\n\tMissing key(s) in state_dict: \"bert_model.embeddings.position_ids\", \"bert_model.embeddings.word_embeddings.weight\", \"bert_model.embeddings.position_embeddings.weight\", \"bert_model.embeddings.token_type_embeddings.weight\", \"bert_model.embeddings.LayerNorm.weight\", \"bert_model.embeddings.LayerNorm.bias\", \"bert_model.encoder.layer.0.attention.self.query.weight\", \"bert_model.encoder.layer.0.attention.self.query.bias\", \"bert_model.encoder.layer.0.attention.self.key.weight\", \"bert_model.encoder.layer.0.attention.self.key.bias\", \"bert_model.encoder.layer.0.attention.self.value.weight\", \"bert_model.encoder.layer.0.attention.self.value.bias\", \"bert_model.encoder.layer.0.attention.output.dense.weight\", \"bert_model.encoder.layer.0.attention.output.dense.bias\", \"bert_model.encoder.layer.0.attention.output.LayerNorm.weight\", \"bert_model.encoder.layer.0.attention.output.LayerNorm.bias\", \"bert_model.encoder.layer.0.intermediate.dense.weight\", \"bert_model.encoder.layer.0.intermediate.dense.bias\", \"bert_model.encoder.layer.0.output.dense.weight\", \"bert_model.encoder.layer.0.output.dense.bias\", \"bert_model.encoder.layer.0.output.LayerNorm.weight\", \"bert_model.encoder.layer.0.output.LayerNorm.bias\", \"bert_model.encoder.layer.1.attention.self.query.weight\", \"bert_model.encoder.layer.1.attention.self.query.bias\", \"bert_model.encoder.layer.1.attention.self.key.weight\", \"bert_model.encoder.layer.1.attention.self.key.bias\", \"bert_model.encoder.layer.1.attention.self.value.weight\", \"bert_model.encoder.layer.1.attention.self.value.bias\", \"bert_model.encoder.layer.1.attention.output.dense.weight\", \"bert_model.encoder.layer.1.attention.output.dense.bias\", \"bert_model.encoder.layer.1.attention.output.LayerNorm.weight\", \"bert_model.encoder.layer.1.attention.output.LayerNorm.bias\", \"bert_model.encoder.layer.1.intermediate.dense.weight\", \"bert_model.encoder.layer.1.intermediate.dense.bias\", \"bert_model.encoder.layer.1.output.dense.weight\", \"bert_model.encoder.layer.1.output.dense.bias\", \"bert_model.encoder.layer.1.output.LayerNorm.weight\", \"bert_model.encoder.layer.1.output.LayerNorm.bias\", \"bert_model.encoder.layer.2.attention.self.query.weight\", \"bert_model.encoder.layer.2.attention.self.query.bias\", \"bert_model.encoder.layer.2.attention.self.key.weight\", \"bert_model.encoder.layer.2.attention.self.key.bias\", \"bert_model.encoder.layer.2.attention.self.value.weight\", \"bert_model.encoder.layer.2.attention.self.value.bias\", \"bert_model.encoder.layer.2.attention.output.dense.weight\", \"bert_model.encoder.layer.2.attention.output.dense.bias\", \"bert_model.encoder.layer.2.attention.output.LayerNorm.weight\", \"bert_model.encoder.layer.2.attention.output.LayerNorm.bias\", \"bert_model.encoder.layer.2.intermediate.dense.weight\", \"bert_model.encoder.layer.2.intermediate.dense.bias\", \"bert_model.encoder.layer.2.output.dense.weight\", \"bert_model.encoder.layer.2.output.dense.bias\", \"bert_model.encoder.layer.2.output.LayerNorm.weight\", \"bert_model.encoder.layer.2.output.LayerNorm.bias\", \"bert_model.encoder.layer.3.attention.self.query.weight\", \"bert_model.encoder.layer.3.attention.self.query.bias\", \"bert_model.encoder.layer.3.attention.self.key.weight\", \"bert_model.encoder.layer.3.attention.self.key.bias\", \"bert_model.encoder.layer.3.attention.self.value.weight\", \"bert_model.encoder.layer.3.attention.self.value.bias\", \"bert_model.encoder.layer.3.attention.output.dense.weight\", \"bert_model.encoder.layer.3.attention.output.dense.bias\", \"bert_model.encoder.layer.3.attention.output.LayerNorm.weight\", \"bert_model.encoder.layer.3.attention.output.LayerNorm.bias\", \"bert_model.encoder.layer.3.intermediate.dense.weight\", \"bert_model.encoder.layer.3.intermediate.dense.bias\", \"bert_model.encoder.layer.3.output.dense.weight\", \"bert_model.encoder.layer.3.output.dense.bias\", \"bert_model.encoder.layer.3.output.LayerNorm.weight\", \"bert_model.encoder.layer.3.output.LayerNorm.bias\", \"bert_model.encoder.layer.4.attention.self.query.weight\", \"bert_model.encoder.layer.4.attention.self.query.bias\", \"bert_model.encoder.layer.4.attention.self.key.weight\", \"bert_model.encoder.layer.4.attention.self.key.bias\", \"bert_model.encoder.layer.4.attention.self.value.weight\", \"bert_model.encoder.layer.4.attention.self.value.bias\", \"bert_model.encoder.layer.4.attention.output.dense.weight\", \"bert_model.encoder.layer.4.attention.output.dense.bias\", \"bert_model.encoder.layer.4.attention.output.LayerNorm.weight\", \"bert_model.encoder.layer.4.attention.output.LayerNorm.bias\", \"bert_model.encoder.layer.4.intermediate.dense.weight\", \"bert_model.encoder.layer.4.intermediate.dense.bias\", \"bert_model.encoder.layer.4.output.dense.weight\", \"bert_model.encoder.layer.4.output.dense.bias\", \"bert_model.encoder.layer.4.output.LayerNorm.weight\", \"bert_model.encoder.layer.4.output.LayerNorm.bias\", \"bert_model.encoder.layer.5.attention.self.query.weight\", \"bert_model.encoder.layer.5.attention.self.query.bias\", \"bert_model.encoder.layer.5.attention.self.key.weight\", \"bert_model.encoder.layer.5.attention.self.key.bias\", \"bert_model.encoder.layer.5.attention.self.value.weight\", \"bert_model.encoder.layer.5.attention.self.value.bias\", \"bert_model.encoder.layer.5.attention.output.dense.weight\", \"bert_model.encoder.layer.5.attention.output.dense.bias\", \"bert_model.encoder.layer.5.attention.output.LayerNorm.weight\", \"bert_model.encoder.layer.5.attention.output.LayerNorm.bias\", \"bert_model.encoder.layer.5.intermediate.dense.weight\", \"bert_model.encoder.layer.5.intermediate.dense.bias\", \"bert_model.encoder.layer.5.output.dense.weight\", \"bert_model.encoder.layer.5.output.dense.bias\", \"bert_model.encoder.layer.5.output.LayerNorm.weight\", \"bert_model.encoder.layer.5.output.LayerNorm.bias\", \"bert_model.encoder.layer.6.attention.self.query.weight\", \"bert_model.encoder.layer.6.attention.self.query.bias\", \"bert_model.encoder.layer.6.attention.self.key.weight\", \"bert_model.encoder.layer.6.attention.self.key.bias\", \"bert_model.encoder.layer.6.attention.self.value.weight\", \"bert_model.encoder.layer.6.attention.self.value.bias\", \"bert_model.encoder.layer.6.attention.output.dense.weight\", \"bert_model.encoder.layer.6.attention.output.dense.bias\", \"bert_model.encoder.layer.6.attention.output.LayerNorm.weight\", \"bert_model.encoder.layer.6.attention.output.LayerNorm.bias\", \"bert_model.encoder.layer.6.intermediate.dense.weight\", \"bert_model.encoder.layer.6.intermediate.dense.bias\", \"bert_model.encoder.layer.6.output.dense.weight\", \"bert_model.encoder.layer.6.output.dense.bias\", \"bert_model.encoder.layer.6.output.LayerNorm.weight\", \"bert_model.encoder.layer.6.output.LayerNorm.bias\", \"bert_model.encoder.layer.7.attention.self.query.weight\", \"bert_model.encoder.layer.7.attention.self.query.bias\", \"bert_model.encoder.layer.7.attention.self.key.weight\", \"bert_model.encoder.layer.7.attention.self.key.bias\", \"bert_model.encoder.layer.7.attention.self.value.weight\", \"bert_model.encoder.layer.7.attention.self.value.bias\", \"bert_model.encoder.layer.7.attention.output.dense.weight\", \"bert_model.encoder.layer.7.attention.output.dense.bias\", \"bert_model.encoder.layer.7.attention.output.LayerNorm.weight\", \"bert_model.encoder.layer.7.attention.output.LayerNorm.bias\", \"bert_model.encoder.layer.7.intermediate.dense.weight\", \"bert_model.encoder.layer.7.intermediate.dense.bias\", \"bert_model.encoder.layer.7.output.dense.weight\", \"bert_model.encoder.layer.7.output.dense.bias\", \"bert_model.encoder.layer.7.output.LayerNorm.weight\", \"bert_model.encoder.layer.7.output.LayerNorm.bias\", \"bert_model.encoder.layer.8.attention.self.query.weight\", \"bert_model.encoder.layer.8.attention.self.query.bias\", \"bert_model.encoder.layer.8.attention.self.key.weight\", \"bert_model.encoder.layer.8.attention.self.key.bias\", \"bert_model.encoder.layer.8.attention.self.value.weight\", \"bert_model.encoder.layer.8.attention.self.value.bias\", \"bert_model.encoder.layer.8.attention.output.dense.weight\", \"bert_model.encoder.layer.8.attention.output.dense.bias\", \"bert_model.encoder.layer.8.attention.output.LayerNorm.weight\", \"bert_model.encoder.layer.8.attention.output.LayerNorm.bias\", \"bert_model.encoder.layer.8.intermediate.dense.weight\", \"bert_model.encoder.layer.8.intermediate.dense.bias\", \"bert_model.encoder.layer.8.output.dense.weight\", \"bert_model.encoder.layer.8.output.dense.bias\", \"bert_model.encoder.layer.8.output.LayerNorm.weight\", \"bert_model.encoder.layer.8.output.LayerNorm.bias\", \"bert_model.encoder.layer.9.attention.self.query.weight\", \"bert_model.encoder.layer.9.attention.self.query.bias\", \"bert_model.encoder.layer.9.attention.self.key.weight\", \"bert_model.encoder.layer.9.attention.self.key.bias\", \"bert_model.encoder.layer.9.attention.self.value.weight\", \"bert_model.encoder.layer.9.attention.self.value.bias\", \"bert_model.encoder.layer.9.attention.output.dense.weight\", \"bert_model.encoder.layer.9.attention.output.dense.bias\", \"bert_model.encoder.layer.9.attention.output.LayerNorm.weight\", \"bert_model.encoder.layer.9.attention.output.LayerNorm.bias\", \"bert_model.encoder.layer.9.intermediate.dense.weight\", \"bert_model.encoder.layer.9.intermediate.dense.bias\", \"bert_model.encoder.layer.9.output.dense.weight\", \"bert_model.encoder.layer.9.output.dense.bias\", \"bert_model.encoder.layer.9.output.LayerNorm.weight\", \"bert_model.encoder.layer.9.output.LayerNorm.bias\", \"bert_model.encoder.layer.10.attention.self.query.weight\", \"bert_model.encoder.layer.10.attention.self.query.bias\", \"bert_model.encoder.layer.10.attention.self.key.weight\", \"bert_model.encoder.layer.10.attention.self.key.bias\", \"bert_model.encoder.layer.10.attention.self.value.weight\", \"bert_model.encoder.layer.10.attention.self.value.bias\", \"bert_model.encoder.layer.10.attention.output.dense.weight\", \"bert_model.encoder.layer.10.attention.output.dense.bias\", \"bert_model.encoder.layer.10.attention.output.LayerNorm.weight\", \"bert_model.encoder.layer.10.attention.output.LayerNorm.bias\", \"bert_model.encoder.layer.10.intermediate.dense.weight\", \"bert_model.encoder.layer.10.intermediate.dense.bias\", \"bert_model.encoder.layer.10.output.dense.weight\", \"bert_model.encoder.layer.10.output.dense.bias\", \"bert_model.encoder.layer.10.output.LayerNorm.weight\", \"bert_model.encoder.layer.10.output.LayerNorm.bias\", \"bert_model.encoder.layer.11.attention.self.query.weight\", \"bert_model.encoder.layer.11.attention.self.query.bias\", \"bert_model.encoder.layer.11.attention.self.key.weight\", \"bert_model.encoder.layer.11.attention.self.key.bias\", \"bert_model.encoder.layer.11.attention.self.value.weight\", \"bert_model.encoder.layer.11.attention.self.value.bias\", \"bert_model.encoder.layer.11.attention.output.dense.weight\", \"bert_model.encoder.layer.11.attention.output.dense.bias\", \"bert_model.encoder.layer.11.attention.output.LayerNorm.weight\", \"bert_model.encoder.layer.11.attention.output.LayerNorm.bias\", \"bert_model.encoder.layer.11.intermediate.dense.weight\", \"bert_model.encoder.layer.11.intermediate.dense.bias\", \"bert_model.encoder.layer.11.output.dense.weight\", \"bert_model.encoder.layer.11.output.dense.bias\", \"bert_model.encoder.layer.11.output.LayerNorm.weight\", \"bert_model.encoder.layer.11.output.LayerNorm.bias\", \"bert_model.pooler.dense.weight\", \"bert_model.pooler.dense.bias\", \"rcnn.weight_ih_l0\", \"rcnn.weight_hh_l0\", \"rcnn.bias_ih_l0\", \"rcnn.bias_hh_l0\", \"rcnn.weight_ih_l0_reverse\", \"rcnn.weight_hh_l0_reverse\", \"rcnn.bias_ih_l0_reverse\", \"rcnn.bias_hh_l0_reverse\", \"fc.weight\", \"fc.bias\". \n\tUnexpected key(s) in state_dict: \"embeddings.position_ids\", \"embeddings.word_embeddings.weight\", \"embeddings.position_embeddings.weight\", \"embeddings.token_type_embeddings.weight\", \"embeddings.LayerNorm.weight\", \"embeddings.LayerNorm.bias\", \"encoder.layer.0.attention.self.query.weight\", \"encoder.layer.0.attention.self.query.bias\", \"encoder.layer.0.attention.self.key.weight\", \"encoder.layer.0.attention.self.key.bias\", \"encoder.layer.0.attention.self.value.weight\", \"encoder.layer.0.attention.self.value.bias\", \"encoder.layer.0.attention.output.dense.weight\", \"encoder.layer.0.attention.output.dense.bias\", \"encoder.layer.0.attention.output.LayerNorm.weight\", \"encoder.layer.0.attention.output.LayerNorm.bias\", \"encoder.layer.0.intermediate.dense.weight\", \"encoder.layer.0.intermediate.dense.bias\", \"encoder.layer.0.output.dense.weight\", \"encoder.layer.0.output.dense.bias\", \"encoder.layer.0.output.LayerNorm.weight\", \"encoder.layer.0.output.LayerNorm.bias\", \"encoder.layer.1.attention.self.query.weight\", \"encoder.layer.1.attention.self.query.bias\", \"encoder.layer.1.attention.self.key.weight\", \"encoder.layer.1.attention.self.key.bias\", \"encoder.layer.1.attention.self.value.weight\", \"encoder.layer.1.attention.self.value.bias\", \"encoder.layer.1.attention.output.dense.weight\", \"encoder.layer.1.attention.output.dense.bias\", \"encoder.layer.1.attention.output.LayerNorm.weight\", \"encoder.layer.1.attention.output.LayerNorm.bias\", \"encoder.layer.1.intermediate.dense.weight\", \"encoder.layer.1.intermediate.dense.bias\", \"encoder.layer.1.output.dense.weight\", \"encoder.layer.1.output.dense.bias\", \"encoder.layer.1.output.LayerNorm.weight\", \"encoder.layer.1.output.LayerNorm.bias\", \"encoder.layer.2.attention.self.query.weight\", \"encoder.layer.2.attention.self.query.bias\", \"encoder.layer.2.attention.self.key.weight\", \"encoder.layer.2.attention.self.key.bias\", \"encoder.layer.2.attention.self.value.weight\", \"encoder.layer.2.attention.self.value.bias\", \"encoder.layer.2.attention.output.dense.weight\", \"encoder.layer.2.attention.output.dense.bias\", \"encoder.layer.2.attention.output.LayerNorm.weight\", \"encoder.layer.2.attention.output.LayerNorm.bias\", \"encoder.layer.2.intermediate.dense.weight\", \"encoder.layer.2.intermediate.dense.bias\", \"encoder.layer.2.output.dense.weight\", \"encoder.layer.2.output.dense.bias\", \"encoder.layer.2.output.LayerNorm.weight\", \"encoder.layer.2.output.LayerNorm.bias\", \"encoder.layer.3.attention.self.query.weight\", \"encoder.layer.3.attention.self.query.bias\", \"encoder.layer.3.attention.self.key.weight\", \"encoder.layer.3.attention.self.key.bias\", \"encoder.layer.3.attention.self.value.weight\", \"encoder.layer.3.attention.self.value.bias\", \"encoder.layer.3.attention.output.dense.weight\", \"encoder.layer.3.attention.output.dense.bias\", \"encoder.layer.3.attention.output.LayerNorm.weight\", \"encoder.layer.3.attention.output.LayerNorm.bias\", \"encoder.layer.3.intermediate.dense.weight\", \"encoder.layer.3.intermediate.dense.bias\", \"encoder.layer.3.output.dense.weight\", \"encoder.layer.3.output.dense.bias\", \"encoder.layer.3.output.LayerNorm.weight\", \"encoder.layer.3.output.LayerNorm.bias\", \"encoder.layer.4.attention.self.query.weight\", \"encoder.layer.4.attention.self.query.bias\", \"encoder.layer.4.attention.self.key.weight\", \"encoder.layer.4.attention.self.key.bias\", \"encoder.layer.4.attention.self.value.weight\", \"encoder.layer.4.attention.self.value.bias\", \"encoder.layer.4.attention.output.dense.weight\", \"encoder.layer.4.attention.output.dense.bias\", \"encoder.layer.4.attention.output.LayerNorm.weight\", \"encoder.layer.4.attention.output.LayerNorm.bias\", \"encoder.layer.4.intermediate.dense.weight\", \"encoder.layer.4.intermediate.dense.bias\", \"encoder.layer.4.output.dense.weight\", \"encoder.layer.4.output.dense.bias\", \"encoder.layer.4.output.LayerNorm.weight\", \"encoder.layer.4.output.LayerNorm.bias\", \"encoder.layer.5.attention.self.query.weight\", \"encoder.layer.5.attention.self.query.bias\", \"encoder.layer.5.attention.self.key.weight\", \"encoder.layer.5.attention.self.key.bias\", \"encoder.layer.5.attention.self.value.weight\", \"encoder.layer.5.attention.self.value.bias\", \"encoder.layer.5.attention.output.dense.weight\", \"encoder.layer.5.attention.output.dense.bias\", \"encoder.layer.5.attention.output.LayerNorm.weight\", \"encoder.layer.5.attention.output.LayerNorm.bias\", \"encoder.layer.5.intermediate.dense.weight\", \"encoder.layer.5.intermediate.dense.bias\", \"encoder.layer.5.output.dense.weight\", \"encoder.layer.5.output.dense.bias\", \"encoder.layer.5.output.LayerNorm.weight\", \"encoder.layer.5.output.LayerNorm.bias\", \"encoder.layer.6.attention.self.query.weight\", \"encoder.layer.6.attention.self.query.bias\", \"encoder.layer.6.attention.self.key.weight\", \"encoder.layer.6.attention.self.key.bias\", \"encoder.layer.6.attention.self.value.weight\", \"encoder.layer.6.attention.self.value.bias\", \"encoder.layer.6.attention.output.dense.weight\", \"encoder.layer.6.attention.output.dense.bias\", \"encoder.layer.6.attention.output.LayerNorm.weight\", \"encoder.layer.6.attention.output.LayerNorm.bias\", \"encoder.layer.6.intermediate.dense.weight\", \"encoder.layer.6.intermediate.dense.bias\", \"encoder.layer.6.output.dense.weight\", \"encoder.layer.6.output.dense.bias\", \"encoder.layer.6.output.LayerNorm.weight\", \"encoder.layer.6.output.LayerNorm.bias\", \"encoder.layer.7.attention.self.query.weight\", \"encoder.layer.7.attention.self.query.bias\", \"encoder.layer.7.attention.self.key.weight\", \"encoder.layer.7.attention.self.key.bias\", \"encoder.layer.7.attention.self.value.weight\", \"encoder.layer.7.attention.self.value.bias\", \"encoder.layer.7.attention.output.dense.weight\", \"encoder.layer.7.attention.output.dense.bias\", \"encoder.layer.7.attention.output.LayerNorm.weight\", \"encoder.layer.7.attention.output.LayerNorm.bias\", \"encoder.layer.7.intermediate.dense.weight\", \"encoder.layer.7.intermediate.dense.bias\", \"encoder.layer.7.output.dense.weight\", \"encoder.layer.7.output.dense.bias\", \"encoder.layer.7.output.LayerNorm.weight\", \"encoder.layer.7.output.LayerNorm.bias\", \"encoder.layer.8.attention.self.query.weight\", \"encoder.layer.8.attention.self.query.bias\", \"encoder.layer.8.attention.self.key.weight\", \"encoder.layer.8.attention.self.key.bias\", \"encoder.layer.8.attention.self.value.weight\", \"encoder.layer.8.attention.self.value.bias\", \"encoder.layer.8.attention.output.dense.weight\", \"encoder.layer.8.attention.output.dense.bias\", \"encoder.layer.8.attention.output.LayerNorm.weight\", \"encoder.layer.8.attention.output.LayerNorm.bias\", \"encoder.layer.8.intermediate.dense.weight\", \"encoder.layer.8.intermediate.dense.bias\", \"encoder.layer.8.output.dense.weight\", \"encoder.layer.8.output.dense.bias\", \"encoder.layer.8.output.LayerNorm.weight\", \"encoder.layer.8.output.LayerNorm.bias\", \"encoder.layer.9.attention.self.query.weight\", \"encoder.layer.9.attention.self.query.bias\", \"encoder.layer.9.attention.self.key.weight\", \"encoder.layer.9.attention.self.key.bias\", \"encoder.layer.9.attention.self.value.weight\", \"encoder.layer.9.attention.self.value.bias\", \"encoder.layer.9.attention.output.dense.weight\", \"encoder.layer.9.attention.output.dense.bias\", \"encoder.layer.9.attention.output.LayerNorm.weight\", \"encoder.layer.9.attention.output.LayerNorm.bias\", \"encoder.layer.9.intermediate.dense.weight\", \"encoder.layer.9.intermediate.dense.bias\", \"encoder.layer.9.output.dense.weight\", \"encoder.layer.9.output.dense.bias\", \"encoder.layer.9.output.LayerNorm.weight\", \"encoder.layer.9.output.LayerNorm.bias\", \"encoder.layer.10.attention.self.query.weight\", \"encoder.layer.10.attention.self.query.bias\", \"encoder.layer.10.attention.self.key.weight\", \"encoder.layer.10.attention.self.key.bias\", \"encoder.layer.10.attention.self.value.weight\", \"encoder.layer.10.attention.self.value.bias\", \"encoder.layer.10.attention.output.dense.weight\", \"encoder.layer.10.attention.output.dense.bias\", \"encoder.layer.10.attention.output.LayerNorm.weight\", \"encoder.layer.10.attention.output.LayerNorm.bias\", \"encoder.layer.10.intermediate.dense.weight\", \"encoder.layer.10.intermediate.dense.bias\", \"encoder.layer.10.output.dense.weight\", \"encoder.layer.10.output.dense.bias\", \"encoder.layer.10.output.LayerNorm.weight\", \"encoder.layer.10.output.LayerNorm.bias\", \"encoder.layer.11.attention.self.query.weight\", \"encoder.layer.11.attention.self.query.bias\", \"encoder.layer.11.attention.self.key.weight\", \"encoder.layer.11.attention.self.key.bias\", \"encoder.layer.11.attention.self.value.weight\", \"encoder.layer.11.attention.self.value.bias\", \"encoder.layer.11.attention.output.dense.weight\", \"encoder.layer.11.attention.output.dense.bias\", \"encoder.layer.11.attention.output.LayerNorm.weight\", \"encoder.layer.11.attention.output.LayerNorm.bias\", \"encoder.layer.11.intermediate.dense.weight\", \"encoder.layer.11.intermediate.dense.bias\", \"encoder.layer.11.output.dense.weight\", \"encoder.layer.11.output.dense.bias\", \"encoder.layer.11.output.LayerNorm.weight\", \"encoder.layer.11.output.LayerNorm.bias\", \"pooler.dense.weight\", \"pooler.dense.bias\". ",
     "output_type": "error",
     "traceback": [
      "\u001b[1;31m---------------------------------------------------------------------------\u001b[0m",
      "\u001b[1;31mRuntimeError\u001b[0m                              Traceback (most recent call last)",
      "Cell \u001b[1;32mIn[49], line 9\u001b[0m\n\u001b[0;32m      7\u001b[0m     model_path \u001b[39m=\u001b[39m file\n\u001b[0;32m      8\u001b[0m \u001b[39mprint\u001b[39m(model_path)\n\u001b[1;32m----> 9\u001b[0m model_sentiment\u001b[39m.\u001b[39;49mload_state_dict(torch\u001b[39m.\u001b[39;49mload(\u001b[39m\"\u001b[39;49m\u001b[39mC:/Users/labib/Documents/Kuliah/Materi/Sem 6/MPI/Artikel ilmiah/model/sentiment_model.pth\u001b[39;49m\u001b[39m\"\u001b[39;49m))  \u001b[39m# Ganti dengan path model yang telah dilatih\u001b[39;00m\n\u001b[0;32m     10\u001b[0m model_sentiment\u001b[39m.\u001b[39meval()\n",
      "File \u001b[1;32mc:\\Python311\\Lib\\site-packages\\torch\\nn\\modules\\module.py:2041\u001b[0m, in \u001b[0;36mModule.load_state_dict\u001b[1;34m(self, state_dict, strict)\u001b[0m\n\u001b[0;32m   2036\u001b[0m         error_msgs\u001b[39m.\u001b[39minsert(\n\u001b[0;32m   2037\u001b[0m             \u001b[39m0\u001b[39m, \u001b[39m'\u001b[39m\u001b[39mMissing key(s) in state_dict: \u001b[39m\u001b[39m{}\u001b[39;00m\u001b[39m. \u001b[39m\u001b[39m'\u001b[39m\u001b[39m.\u001b[39mformat(\n\u001b[0;32m   2038\u001b[0m                 \u001b[39m'\u001b[39m\u001b[39m, \u001b[39m\u001b[39m'\u001b[39m\u001b[39m.\u001b[39mjoin(\u001b[39m'\u001b[39m\u001b[39m\"\u001b[39m\u001b[39m{}\u001b[39;00m\u001b[39m\"\u001b[39m\u001b[39m'\u001b[39m\u001b[39m.\u001b[39mformat(k) \u001b[39mfor\u001b[39;00m k \u001b[39min\u001b[39;00m missing_keys)))\n\u001b[0;32m   2040\u001b[0m \u001b[39mif\u001b[39;00m \u001b[39mlen\u001b[39m(error_msgs) \u001b[39m>\u001b[39m \u001b[39m0\u001b[39m:\n\u001b[1;32m-> 2041\u001b[0m     \u001b[39mraise\u001b[39;00m \u001b[39mRuntimeError\u001b[39;00m(\u001b[39m'\u001b[39m\u001b[39mError(s) in loading state_dict for \u001b[39m\u001b[39m{}\u001b[39;00m\u001b[39m:\u001b[39m\u001b[39m\\n\u001b[39;00m\u001b[39m\\t\u001b[39;00m\u001b[39m{}\u001b[39;00m\u001b[39m'\u001b[39m\u001b[39m.\u001b[39mformat(\n\u001b[0;32m   2042\u001b[0m                        \u001b[39mself\u001b[39m\u001b[39m.\u001b[39m\u001b[39m__class__\u001b[39m\u001b[39m.\u001b[39m\u001b[39m__name__\u001b[39m, \u001b[39m\"\u001b[39m\u001b[39m\\n\u001b[39;00m\u001b[39m\\t\u001b[39;00m\u001b[39m\"\u001b[39m\u001b[39m.\u001b[39mjoin(error_msgs)))\n\u001b[0;32m   2043\u001b[0m \u001b[39mreturn\u001b[39;00m _IncompatibleKeys(missing_keys, unexpected_keys)\n",
      "\u001b[1;31mRuntimeError\u001b[0m: Error(s) in loading state_dict for SentimentClassifier:\n\tMissing key(s) in state_dict: \"bert_model.embeddings.position_ids\", \"bert_model.embeddings.word_embeddings.weight\", \"bert_model.embeddings.position_embeddings.weight\", \"bert_model.embeddings.token_type_embeddings.weight\", \"bert_model.embeddings.LayerNorm.weight\", \"bert_model.embeddings.LayerNorm.bias\", \"bert_model.encoder.layer.0.attention.self.query.weight\", \"bert_model.encoder.layer.0.attention.self.query.bias\", \"bert_model.encoder.layer.0.attention.self.key.weight\", \"bert_model.encoder.layer.0.attention.self.key.bias\", \"bert_model.encoder.layer.0.attention.self.value.weight\", \"bert_model.encoder.layer.0.attention.self.value.bias\", \"bert_model.encoder.layer.0.attention.output.dense.weight\", \"bert_model.encoder.layer.0.attention.output.dense.bias\", \"bert_model.encoder.layer.0.attention.output.LayerNorm.weight\", \"bert_model.encoder.layer.0.attention.output.LayerNorm.bias\", \"bert_model.encoder.layer.0.intermediate.dense.weight\", \"bert_model.encoder.layer.0.intermediate.dense.bias\", \"bert_model.encoder.layer.0.output.dense.weight\", \"bert_model.encoder.layer.0.output.dense.bias\", \"bert_model.encoder.layer.0.output.LayerNorm.weight\", \"bert_model.encoder.layer.0.output.LayerNorm.bias\", \"bert_model.encoder.layer.1.attention.self.query.weight\", \"bert_model.encoder.layer.1.attention.self.query.bias\", \"bert_model.encoder.layer.1.attention.self.key.weight\", \"bert_model.encoder.layer.1.attention.self.key.bias\", \"bert_model.encoder.layer.1.attention.self.value.weight\", \"bert_model.encoder.layer.1.attention.self.value.bias\", \"bert_model.encoder.layer.1.attention.output.dense.weight\", \"bert_model.encoder.layer.1.attention.output.dense.bias\", \"bert_model.encoder.layer.1.attention.output.LayerNorm.weight\", \"bert_model.encoder.layer.1.attention.output.LayerNorm.bias\", \"bert_model.encoder.layer.1.intermediate.dense.weight\", \"bert_model.encoder.layer.1.intermediate.dense.bias\", \"bert_model.encoder.layer.1.output.dense.weight\", \"bert_model.encoder.layer.1.output.dense.bias\", \"bert_model.encoder.layer.1.output.LayerNorm.weight\", \"bert_model.encoder.layer.1.output.LayerNorm.bias\", \"bert_model.encoder.layer.2.attention.self.query.weight\", \"bert_model.encoder.layer.2.attention.self.query.bias\", \"bert_model.encoder.layer.2.attention.self.key.weight\", \"bert_model.encoder.layer.2.attention.self.key.bias\", \"bert_model.encoder.layer.2.attention.self.value.weight\", \"bert_model.encoder.layer.2.attention.self.value.bias\", \"bert_model.encoder.layer.2.attention.output.dense.weight\", \"bert_model.encoder.layer.2.attention.output.dense.bias\", \"bert_model.encoder.layer.2.attention.output.LayerNorm.weight\", \"bert_model.encoder.layer.2.attention.output.LayerNorm.bias\", \"bert_model.encoder.layer.2.intermediate.dense.weight\", \"bert_model.encoder.layer.2.intermediate.dense.bias\", \"bert_model.encoder.layer.2.output.dense.weight\", \"bert_model.encoder.layer.2.output.dense.bias\", \"bert_model.encoder.layer.2.output.LayerNorm.weight\", \"bert_model.encoder.layer.2.output.LayerNorm.bias\", \"bert_model.encoder.layer.3.attention.self.query.weight\", \"bert_model.encoder.layer.3.attention.self.query.bias\", \"bert_model.encoder.layer.3.attention.self.key.weight\", \"bert_model.encoder.layer.3.attention.self.key.bias\", \"bert_model.encoder.layer.3.attention.self.value.weight\", \"bert_model.encoder.layer.3.attention.self.value.bias\", \"bert_model.encoder.layer.3.attention.output.dense.weight\", \"bert_model.encoder.layer.3.attention.output.dense.bias\", \"bert_model.encoder.layer.3.attention.output.LayerNorm.weight\", \"bert_model.encoder.layer.3.attention.output.LayerNorm.bias\", \"bert_model.encoder.layer.3.intermediate.dense.weight\", \"bert_model.encoder.layer.3.intermediate.dense.bias\", \"bert_model.encoder.layer.3.output.dense.weight\", \"bert_model.encoder.layer.3.output.dense.bias\", \"bert_model.encoder.layer.3.output.LayerNorm.weight\", \"bert_model.encoder.layer.3.output.LayerNorm.bias\", \"bert_model.encoder.layer.4.attention.self.query.weight\", \"bert_model.encoder.layer.4.attention.self.query.bias\", \"bert_model.encoder.layer.4.attention.self.key.weight\", \"bert_model.encoder.layer.4.attention.self.key.bias\", \"bert_model.encoder.layer.4.attention.self.value.weight\", \"bert_model.encoder.layer.4.attention.self.value.bias\", \"bert_model.encoder.layer.4.attention.output.dense.weight\", \"bert_model.encoder.layer.4.attention.output.dense.bias\", \"bert_model.encoder.layer.4.attention.output.LayerNorm.weight\", \"bert_model.encoder.layer.4.attention.output.LayerNorm.bias\", \"bert_model.encoder.layer.4.intermediate.dense.weight\", \"bert_model.encoder.layer.4.intermediate.dense.bias\", \"bert_model.encoder.layer.4.output.dense.weight\", \"bert_model.encoder.layer.4.output.dense.bias\", \"bert_model.encoder.layer.4.output.LayerNorm.weight\", \"bert_model.encoder.layer.4.output.LayerNorm.bias\", \"bert_model.encoder.layer.5.attention.self.query.weight\", \"bert_model.encoder.layer.5.attention.self.query.bias\", \"bert_model.encoder.layer.5.attention.self.key.weight\", \"bert_model.encoder.layer.5.attention.self.key.bias\", \"bert_model.encoder.layer.5.attention.self.value.weight\", \"bert_model.encoder.layer.5.attention.self.value.bias\", \"bert_model.encoder.layer.5.attention.output.dense.weight\", \"bert_model.encoder.layer.5.attention.output.dense.bias\", \"bert_model.encoder.layer.5.attention.output.LayerNorm.weight\", \"bert_model.encoder.layer.5.attention.output.LayerNorm.bias\", \"bert_model.encoder.layer.5.intermediate.dense.weight\", \"bert_model.encoder.layer.5.intermediate.dense.bias\", \"bert_model.encoder.layer.5.output.dense.weight\", \"bert_model.encoder.layer.5.output.dense.bias\", \"bert_model.encoder.layer.5.output.LayerNorm.weight\", \"bert_model.encoder.layer.5.output.LayerNorm.bias\", \"bert_model.encoder.layer.6.attention.self.query.weight\", \"bert_model.encoder.layer.6.attention.self.query.bias\", \"bert_model.encoder.layer.6.attention.self.key.weight\", \"bert_model.encoder.layer.6.attention.self.key.bias\", \"bert_model.encoder.layer.6.attention.self.value.weight\", \"bert_model.encoder.layer.6.attention.self.value.bias\", \"bert_model.encoder.layer.6.attention.output.dense.weight\", \"bert_model.encoder.layer.6.attention.output.dense.bias\", \"bert_model.encoder.layer.6.attention.output.LayerNorm.weight\", \"bert_model.encoder.layer.6.attention.output.LayerNorm.bias\", \"bert_model.encoder.layer.6.intermediate.dense.weight\", \"bert_model.encoder.layer.6.intermediate.dense.bias\", \"bert_model.encoder.layer.6.output.dense.weight\", \"bert_model.encoder.layer.6.output.dense.bias\", \"bert_model.encoder.layer.6.output.LayerNorm.weight\", \"bert_model.encoder.layer.6.output.LayerNorm.bias\", \"bert_model.encoder.layer.7.attention.self.query.weight\", \"bert_model.encoder.layer.7.attention.self.query.bias\", \"bert_model.encoder.layer.7.attention.self.key.weight\", \"bert_model.encoder.layer.7.attention.self.key.bias\", \"bert_model.encoder.layer.7.attention.self.value.weight\", \"bert_model.encoder.layer.7.attention.self.value.bias\", \"bert_model.encoder.layer.7.attention.output.dense.weight\", \"bert_model.encoder.layer.7.attention.output.dense.bias\", \"bert_model.encoder.layer.7.attention.output.LayerNorm.weight\", \"bert_model.encoder.layer.7.attention.output.LayerNorm.bias\", \"bert_model.encoder.layer.7.intermediate.dense.weight\", \"bert_model.encoder.layer.7.intermediate.dense.bias\", \"bert_model.encoder.layer.7.output.dense.weight\", \"bert_model.encoder.layer.7.output.dense.bias\", \"bert_model.encoder.layer.7.output.LayerNorm.weight\", \"bert_model.encoder.layer.7.output.LayerNorm.bias\", \"bert_model.encoder.layer.8.attention.self.query.weight\", \"bert_model.encoder.layer.8.attention.self.query.bias\", \"bert_model.encoder.layer.8.attention.self.key.weight\", \"bert_model.encoder.layer.8.attention.self.key.bias\", \"bert_model.encoder.layer.8.attention.self.value.weight\", \"bert_model.encoder.layer.8.attention.self.value.bias\", \"bert_model.encoder.layer.8.attention.output.dense.weight\", \"bert_model.encoder.layer.8.attention.output.dense.bias\", \"bert_model.encoder.layer.8.attention.output.LayerNorm.weight\", \"bert_model.encoder.layer.8.attention.output.LayerNorm.bias\", \"bert_model.encoder.layer.8.intermediate.dense.weight\", \"bert_model.encoder.layer.8.intermediate.dense.bias\", \"bert_model.encoder.layer.8.output.dense.weight\", \"bert_model.encoder.layer.8.output.dense.bias\", \"bert_model.encoder.layer.8.output.LayerNorm.weight\", \"bert_model.encoder.layer.8.output.LayerNorm.bias\", \"bert_model.encoder.layer.9.attention.self.query.weight\", \"bert_model.encoder.layer.9.attention.self.query.bias\", \"bert_model.encoder.layer.9.attention.self.key.weight\", \"bert_model.encoder.layer.9.attention.self.key.bias\", \"bert_model.encoder.layer.9.attention.self.value.weight\", \"bert_model.encoder.layer.9.attention.self.value.bias\", \"bert_model.encoder.layer.9.attention.output.dense.weight\", \"bert_model.encoder.layer.9.attention.output.dense.bias\", \"bert_model.encoder.layer.9.attention.output.LayerNorm.weight\", \"bert_model.encoder.layer.9.attention.output.LayerNorm.bias\", \"bert_model.encoder.layer.9.intermediate.dense.weight\", \"bert_model.encoder.layer.9.intermediate.dense.bias\", \"bert_model.encoder.layer.9.output.dense.weight\", \"bert_model.encoder.layer.9.output.dense.bias\", \"bert_model.encoder.layer.9.output.LayerNorm.weight\", \"bert_model.encoder.layer.9.output.LayerNorm.bias\", \"bert_model.encoder.layer.10.attention.self.query.weight\", \"bert_model.encoder.layer.10.attention.self.query.bias\", \"bert_model.encoder.layer.10.attention.self.key.weight\", \"bert_model.encoder.layer.10.attention.self.key.bias\", \"bert_model.encoder.layer.10.attention.self.value.weight\", \"bert_model.encoder.layer.10.attention.self.value.bias\", \"bert_model.encoder.layer.10.attention.output.dense.weight\", \"bert_model.encoder.layer.10.attention.output.dense.bias\", \"bert_model.encoder.layer.10.attention.output.LayerNorm.weight\", \"bert_model.encoder.layer.10.attention.output.LayerNorm.bias\", \"bert_model.encoder.layer.10.intermediate.dense.weight\", \"bert_model.encoder.layer.10.intermediate.dense.bias\", \"bert_model.encoder.layer.10.output.dense.weight\", \"bert_model.encoder.layer.10.output.dense.bias\", \"bert_model.encoder.layer.10.output.LayerNorm.weight\", \"bert_model.encoder.layer.10.output.LayerNorm.bias\", \"bert_model.encoder.layer.11.attention.self.query.weight\", \"bert_model.encoder.layer.11.attention.self.query.bias\", \"bert_model.encoder.layer.11.attention.self.key.weight\", \"bert_model.encoder.layer.11.attention.self.key.bias\", \"bert_model.encoder.layer.11.attention.self.value.weight\", \"bert_model.encoder.layer.11.attention.self.value.bias\", \"bert_model.encoder.layer.11.attention.output.dense.weight\", \"bert_model.encoder.layer.11.attention.output.dense.bias\", \"bert_model.encoder.layer.11.attention.output.LayerNorm.weight\", \"bert_model.encoder.layer.11.attention.output.LayerNorm.bias\", \"bert_model.encoder.layer.11.intermediate.dense.weight\", \"bert_model.encoder.layer.11.intermediate.dense.bias\", \"bert_model.encoder.layer.11.output.dense.weight\", \"bert_model.encoder.layer.11.output.dense.bias\", \"bert_model.encoder.layer.11.output.LayerNorm.weight\", \"bert_model.encoder.layer.11.output.LayerNorm.bias\", \"bert_model.pooler.dense.weight\", \"bert_model.pooler.dense.bias\", \"rcnn.weight_ih_l0\", \"rcnn.weight_hh_l0\", \"rcnn.bias_ih_l0\", \"rcnn.bias_hh_l0\", \"rcnn.weight_ih_l0_reverse\", \"rcnn.weight_hh_l0_reverse\", \"rcnn.bias_ih_l0_reverse\", \"rcnn.bias_hh_l0_reverse\", \"fc.weight\", \"fc.bias\". \n\tUnexpected key(s) in state_dict: \"embeddings.position_ids\", \"embeddings.word_embeddings.weight\", \"embeddings.position_embeddings.weight\", \"embeddings.token_type_embeddings.weight\", \"embeddings.LayerNorm.weight\", \"embeddings.LayerNorm.bias\", \"encoder.layer.0.attention.self.query.weight\", \"encoder.layer.0.attention.self.query.bias\", \"encoder.layer.0.attention.self.key.weight\", \"encoder.layer.0.attention.self.key.bias\", \"encoder.layer.0.attention.self.value.weight\", \"encoder.layer.0.attention.self.value.bias\", \"encoder.layer.0.attention.output.dense.weight\", \"encoder.layer.0.attention.output.dense.bias\", \"encoder.layer.0.attention.output.LayerNorm.weight\", \"encoder.layer.0.attention.output.LayerNorm.bias\", \"encoder.layer.0.intermediate.dense.weight\", \"encoder.layer.0.intermediate.dense.bias\", \"encoder.layer.0.output.dense.weight\", \"encoder.layer.0.output.dense.bias\", \"encoder.layer.0.output.LayerNorm.weight\", \"encoder.layer.0.output.LayerNorm.bias\", \"encoder.layer.1.attention.self.query.weight\", \"encoder.layer.1.attention.self.query.bias\", \"encoder.layer.1.attention.self.key.weight\", \"encoder.layer.1.attention.self.key.bias\", \"encoder.layer.1.attention.self.value.weight\", \"encoder.layer.1.attention.self.value.bias\", \"encoder.layer.1.attention.output.dense.weight\", \"encoder.layer.1.attention.output.dense.bias\", \"encoder.layer.1.attention.output.LayerNorm.weight\", \"encoder.layer.1.attention.output.LayerNorm.bias\", \"encoder.layer.1.intermediate.dense.weight\", \"encoder.layer.1.intermediate.dense.bias\", \"encoder.layer.1.output.dense.weight\", \"encoder.layer.1.output.dense.bias\", \"encoder.layer.1.output.LayerNorm.weight\", \"encoder.layer.1.output.LayerNorm.bias\", \"encoder.layer.2.attention.self.query.weight\", \"encoder.layer.2.attention.self.query.bias\", \"encoder.layer.2.attention.self.key.weight\", \"encoder.layer.2.attention.self.key.bias\", \"encoder.layer.2.attention.self.value.weight\", \"encoder.layer.2.attention.self.value.bias\", \"encoder.layer.2.attention.output.dense.weight\", \"encoder.layer.2.attention.output.dense.bias\", \"encoder.layer.2.attention.output.LayerNorm.weight\", \"encoder.layer.2.attention.output.LayerNorm.bias\", \"encoder.layer.2.intermediate.dense.weight\", \"encoder.layer.2.intermediate.dense.bias\", \"encoder.layer.2.output.dense.weight\", \"encoder.layer.2.output.dense.bias\", \"encoder.layer.2.output.LayerNorm.weight\", \"encoder.layer.2.output.LayerNorm.bias\", \"encoder.layer.3.attention.self.query.weight\", \"encoder.layer.3.attention.self.query.bias\", \"encoder.layer.3.attention.self.key.weight\", \"encoder.layer.3.attention.self.key.bias\", \"encoder.layer.3.attention.self.value.weight\", \"encoder.layer.3.attention.self.value.bias\", \"encoder.layer.3.attention.output.dense.weight\", \"encoder.layer.3.attention.output.dense.bias\", \"encoder.layer.3.attention.output.LayerNorm.weight\", \"encoder.layer.3.attention.output.LayerNorm.bias\", \"encoder.layer.3.intermediate.dense.weight\", \"encoder.layer.3.intermediate.dense.bias\", \"encoder.layer.3.output.dense.weight\", \"encoder.layer.3.output.dense.bias\", \"encoder.layer.3.output.LayerNorm.weight\", \"encoder.layer.3.output.LayerNorm.bias\", \"encoder.layer.4.attention.self.query.weight\", \"encoder.layer.4.attention.self.query.bias\", \"encoder.layer.4.attention.self.key.weight\", \"encoder.layer.4.attention.self.key.bias\", \"encoder.layer.4.attention.self.value.weight\", \"encoder.layer.4.attention.self.value.bias\", \"encoder.layer.4.attention.output.dense.weight\", \"encoder.layer.4.attention.output.dense.bias\", \"encoder.layer.4.attention.output.LayerNorm.weight\", \"encoder.layer.4.attention.output.LayerNorm.bias\", \"encoder.layer.4.intermediate.dense.weight\", \"encoder.layer.4.intermediate.dense.bias\", \"encoder.layer.4.output.dense.weight\", \"encoder.layer.4.output.dense.bias\", \"encoder.layer.4.output.LayerNorm.weight\", \"encoder.layer.4.output.LayerNorm.bias\", \"encoder.layer.5.attention.self.query.weight\", \"encoder.layer.5.attention.self.query.bias\", \"encoder.layer.5.attention.self.key.weight\", \"encoder.layer.5.attention.self.key.bias\", \"encoder.layer.5.attention.self.value.weight\", \"encoder.layer.5.attention.self.value.bias\", \"encoder.layer.5.attention.output.dense.weight\", \"encoder.layer.5.attention.output.dense.bias\", \"encoder.layer.5.attention.output.LayerNorm.weight\", \"encoder.layer.5.attention.output.LayerNorm.bias\", \"encoder.layer.5.intermediate.dense.weight\", \"encoder.layer.5.intermediate.dense.bias\", \"encoder.layer.5.output.dense.weight\", \"encoder.layer.5.output.dense.bias\", \"encoder.layer.5.output.LayerNorm.weight\", \"encoder.layer.5.output.LayerNorm.bias\", \"encoder.layer.6.attention.self.query.weight\", \"encoder.layer.6.attention.self.query.bias\", \"encoder.layer.6.attention.self.key.weight\", \"encoder.layer.6.attention.self.key.bias\", \"encoder.layer.6.attention.self.value.weight\", \"encoder.layer.6.attention.self.value.bias\", \"encoder.layer.6.attention.output.dense.weight\", \"encoder.layer.6.attention.output.dense.bias\", \"encoder.layer.6.attention.output.LayerNorm.weight\", \"encoder.layer.6.attention.output.LayerNorm.bias\", \"encoder.layer.6.intermediate.dense.weight\", \"encoder.layer.6.intermediate.dense.bias\", \"encoder.layer.6.output.dense.weight\", \"encoder.layer.6.output.dense.bias\", \"encoder.layer.6.output.LayerNorm.weight\", \"encoder.layer.6.output.LayerNorm.bias\", \"encoder.layer.7.attention.self.query.weight\", \"encoder.layer.7.attention.self.query.bias\", \"encoder.layer.7.attention.self.key.weight\", \"encoder.layer.7.attention.self.key.bias\", \"encoder.layer.7.attention.self.value.weight\", \"encoder.layer.7.attention.self.value.bias\", \"encoder.layer.7.attention.output.dense.weight\", \"encoder.layer.7.attention.output.dense.bias\", \"encoder.layer.7.attention.output.LayerNorm.weight\", \"encoder.layer.7.attention.output.LayerNorm.bias\", \"encoder.layer.7.intermediate.dense.weight\", \"encoder.layer.7.intermediate.dense.bias\", \"encoder.layer.7.output.dense.weight\", \"encoder.layer.7.output.dense.bias\", \"encoder.layer.7.output.LayerNorm.weight\", \"encoder.layer.7.output.LayerNorm.bias\", \"encoder.layer.8.attention.self.query.weight\", \"encoder.layer.8.attention.self.query.bias\", \"encoder.layer.8.attention.self.key.weight\", \"encoder.layer.8.attention.self.key.bias\", \"encoder.layer.8.attention.self.value.weight\", \"encoder.layer.8.attention.self.value.bias\", \"encoder.layer.8.attention.output.dense.weight\", \"encoder.layer.8.attention.output.dense.bias\", \"encoder.layer.8.attention.output.LayerNorm.weight\", \"encoder.layer.8.attention.output.LayerNorm.bias\", \"encoder.layer.8.intermediate.dense.weight\", \"encoder.layer.8.intermediate.dense.bias\", \"encoder.layer.8.output.dense.weight\", \"encoder.layer.8.output.dense.bias\", \"encoder.layer.8.output.LayerNorm.weight\", \"encoder.layer.8.output.LayerNorm.bias\", \"encoder.layer.9.attention.self.query.weight\", \"encoder.layer.9.attention.self.query.bias\", \"encoder.layer.9.attention.self.key.weight\", \"encoder.layer.9.attention.self.key.bias\", \"encoder.layer.9.attention.self.value.weight\", \"encoder.layer.9.attention.self.value.bias\", \"encoder.layer.9.attention.output.dense.weight\", \"encoder.layer.9.attention.output.dense.bias\", \"encoder.layer.9.attention.output.LayerNorm.weight\", \"encoder.layer.9.attention.output.LayerNorm.bias\", \"encoder.layer.9.intermediate.dense.weight\", \"encoder.layer.9.intermediate.dense.bias\", \"encoder.layer.9.output.dense.weight\", \"encoder.layer.9.output.dense.bias\", \"encoder.layer.9.output.LayerNorm.weight\", \"encoder.layer.9.output.LayerNorm.bias\", \"encoder.layer.10.attention.self.query.weight\", \"encoder.layer.10.attention.self.query.bias\", \"encoder.layer.10.attention.self.key.weight\", \"encoder.layer.10.attention.self.key.bias\", \"encoder.layer.10.attention.self.value.weight\", \"encoder.layer.10.attention.self.value.bias\", \"encoder.layer.10.attention.output.dense.weight\", \"encoder.layer.10.attention.output.dense.bias\", \"encoder.layer.10.attention.output.LayerNorm.weight\", \"encoder.layer.10.attention.output.LayerNorm.bias\", \"encoder.layer.10.intermediate.dense.weight\", \"encoder.layer.10.intermediate.dense.bias\", \"encoder.layer.10.output.dense.weight\", \"encoder.layer.10.output.dense.bias\", \"encoder.layer.10.output.LayerNorm.weight\", \"encoder.layer.10.output.LayerNorm.bias\", \"encoder.layer.11.attention.self.query.weight\", \"encoder.layer.11.attention.self.query.bias\", \"encoder.layer.11.attention.self.key.weight\", \"encoder.layer.11.attention.self.key.bias\", \"encoder.layer.11.attention.self.value.weight\", \"encoder.layer.11.attention.self.value.bias\", \"encoder.layer.11.attention.output.dense.weight\", \"encoder.layer.11.attention.output.dense.bias\", \"encoder.layer.11.attention.output.LayerNorm.weight\", \"encoder.layer.11.attention.output.LayerNorm.bias\", \"encoder.layer.11.intermediate.dense.weight\", \"encoder.layer.11.intermediate.dense.bias\", \"encoder.layer.11.output.dense.weight\", \"encoder.layer.11.output.dense.bias\", \"encoder.layer.11.output.LayerNorm.weight\", \"encoder.layer.11.output.LayerNorm.bias\", \"pooler.dense.weight\", \"pooler.dense.bias\". "
     ]
    }
   ],
   "source": [
    "# Step 6: Load model sentimen yang telah dilatih\n",
    "num_classes = len(label_encoder.classes_)\n",
    "model_sentiment = SentimentClassifier(model, num_classes)\n",
    "dir = os.listdir(save_directory)\n",
    "model_path = \"\"\n",
    "for file in dir:\n",
    "    model_path = file\n",
    "print(model_path)\n",
    "model_sentiment.load_state_dict(torch.load(\"C:/Users/labib/Documents/Kuliah/Materi/Sem 6/MPI/Artikel ilmiah/model/sentiment_model.pth\"))  # Ganti dengan path model yang telah dilatih\n",
    "model_sentiment.eval()"
   ]
  },
  {
   "cell_type": "code",
   "execution_count": 35,
   "metadata": {},
   "outputs": [],
   "source": [
    "# Step 7: Definisikan fungsi untuk melakukan analisis sentimen\n",
    "def analyze_sentiment(text):\n",
    "    encoded_input = preprocess_text(text)\n",
    "    with torch.no_grad():\n",
    "        logits = model_sentiment(encoded_input['input_ids'], encoded_input['attention_mask'])\n",
    "    probabilities = torch.softmax(logits, dim=1).tolist()[0]\n",
    "    sentiment_label = label_encoder.inverse_transform([probabilities.index(max(probabilities))])\n",
    "    sentiment_score = max(probabilities)\n",
    "    return sentiment_label[0], sentiment_score"
   ]
  },
  {
   "cell_type": "code",
   "execution_count": 36,
   "metadata": {},
   "outputs": [
    {
     "ename": "TypeError",
     "evalue": "only integer scalar arrays can be converted to a scalar index",
     "output_type": "error",
     "traceback": [
      "\u001b[1;31m---------------------------------------------------------------------------\u001b[0m",
      "\u001b[1;31mTypeError\u001b[0m                                 Traceback (most recent call last)",
      "Cell \u001b[1;32mIn[36], line 6\u001b[0m\n\u001b[0;32m      3\u001b[0m sentiment_scores \u001b[39m=\u001b[39m []\n\u001b[0;32m      5\u001b[0m \u001b[39mfor\u001b[39;00m tweet \u001b[39min\u001b[39;00m tweets:\n\u001b[1;32m----> 6\u001b[0m     sentiment_label, sentiment_score \u001b[39m=\u001b[39m analyze_sentiment(tweet)\n\u001b[0;32m      7\u001b[0m     sentiments\u001b[39m.\u001b[39mappend(sentiment_label)\n\u001b[0;32m      8\u001b[0m     sentiment_scores\u001b[39m.\u001b[39mappend(sentiment_score)\n",
      "Cell \u001b[1;32mIn[35], line 7\u001b[0m, in \u001b[0;36manalyze_sentiment\u001b[1;34m(text)\u001b[0m\n\u001b[0;32m      5\u001b[0m     logits \u001b[39m=\u001b[39m model_sentiment(encoded_input[\u001b[39m'\u001b[39m\u001b[39minput_ids\u001b[39m\u001b[39m'\u001b[39m], encoded_input[\u001b[39m'\u001b[39m\u001b[39mattention_mask\u001b[39m\u001b[39m'\u001b[39m])\n\u001b[0;32m      6\u001b[0m probabilities \u001b[39m=\u001b[39m torch\u001b[39m.\u001b[39msoftmax(logits, dim\u001b[39m=\u001b[39m\u001b[39m1\u001b[39m)\u001b[39m.\u001b[39mtolist()[\u001b[39m0\u001b[39m]\n\u001b[1;32m----> 7\u001b[0m sentiment_label \u001b[39m=\u001b[39m label_encoder\u001b[39m.\u001b[39;49minverse_transform([probabilities\u001b[39m.\u001b[39;49mindex(\u001b[39mmax\u001b[39;49m(probabilities))])\n\u001b[0;32m      8\u001b[0m sentiment_score \u001b[39m=\u001b[39m \u001b[39mmax\u001b[39m(probabilities)\n\u001b[0;32m      9\u001b[0m \u001b[39mreturn\u001b[39;00m sentiment_label[\u001b[39m0\u001b[39m], sentiment_score\n",
      "File \u001b[1;32mc:\\Python311\\Lib\\site-packages\\sklearn\\preprocessing\\_label.py:164\u001b[0m, in \u001b[0;36mLabelEncoder.inverse_transform\u001b[1;34m(self, y)\u001b[0m\n\u001b[0;32m    162\u001b[0m     \u001b[39mraise\u001b[39;00m \u001b[39mValueError\u001b[39;00m(\u001b[39m\"\u001b[39m\u001b[39my contains previously unseen labels: \u001b[39m\u001b[39m%s\u001b[39;00m\u001b[39m\"\u001b[39m \u001b[39m%\u001b[39m \u001b[39mstr\u001b[39m(diff))\n\u001b[0;32m    163\u001b[0m y \u001b[39m=\u001b[39m np\u001b[39m.\u001b[39masarray(y)\n\u001b[1;32m--> 164\u001b[0m \u001b[39mreturn\u001b[39;00m \u001b[39mself\u001b[39;49m\u001b[39m.\u001b[39;49mclasses_[y]\n",
      "\u001b[1;31mTypeError\u001b[0m: only integer scalar arrays can be converted to a scalar index"
     ]
    }
   ],
   "source": [
    "# Step 8: Analisis sentimen pada setiap tweet dalam dataset\n",
    "sentiments = []\n",
    "sentiment_scores = []\n",
    "\n",
    "for tweet in tweets:\n",
    "    sentiment_label, sentiment_score = analyze_sentiment(tweet)\n",
    "    sentiments.append(sentiment_label)\n",
    "    sentiment_scores.append(sentiment_score)\n",
    "\n",
    "# Tambahkan kolom sentimen dan skor sentimen ke dalam dataframe\n",
    "df[\"sentiment\"] = sentiments\n",
    "df[\"sentiment_score\"] = sentiment_scores\n",
    "\n",
    "# Save the updated dataframe to a new CSV file\n",
    "# output_path = \"sentiment_analysis_results.csv\"\n",
    "df.to_csv(output_path, index=False)\n",
    "\n",
    "# Cetak dataframe dengan kolom sentimen dan skor sentimen\n",
    "print(df[[\"title\", \"sentiment\", \"sentiment_score\"]])"
   ]
  }
 ],
 "metadata": {
  "kernelspec": {
   "display_name": "Python 3",
   "language": "python",
   "name": "python3"
  },
  "language_info": {
   "codemirror_mode": {
    "name": "ipython",
    "version": 3
   },
   "file_extension": ".py",
   "mimetype": "text/x-python",
   "name": "python",
   "nbconvert_exporter": "python",
   "pygments_lexer": "ipython3",
   "version": "3.11.0"
  },
  "orig_nbformat": 4
 },
 "nbformat": 4,
 "nbformat_minor": 2
}
